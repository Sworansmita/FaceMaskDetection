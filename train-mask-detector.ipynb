{
 "cells": [
  {
   "cell_type": "code",
   "execution_count": 1,
   "metadata": {},
   "outputs": [],
   "source": [
    "import tensorflow as tf"
   ]
  },
  {
   "cell_type": "code",
   "execution_count": 2,
   "metadata": {},
   "outputs": [
    {
     "name": "stderr",
     "output_type": "stream",
     "text": [
      "Using TensorFlow backend.\n"
     ]
    }
   ],
   "source": [
    "import keras"
   ]
  },
  {
   "cell_type": "code",
   "execution_count": 3,
   "metadata": {},
   "outputs": [],
   "source": [
    "# import the necessary packages\n",
    "from tensorflow.keras.preprocessing.image import ImageDataGenerator\n",
    "from tensorflow.keras.applications import MobileNetV2\n",
    "from tensorflow.keras.layers import AveragePooling2D\n",
    "from tensorflow.keras.layers import Dropout\n",
    "from tensorflow.keras.layers import Flatten\n",
    "from tensorflow.keras.layers import Dense\n",
    "from tensorflow.keras.layers import Input\n",
    "from tensorflow.keras.models import Model\n",
    "from tensorflow.keras.optimizers import Adam\n",
    "from tensorflow.keras.applications.mobilenet_v2 import preprocess_input\n",
    "from tensorflow.keras.preprocessing.image import img_to_array\n",
    "from tensorflow.keras.preprocessing.image import load_img\n",
    "from tensorflow.keras.utils import to_categorical\n",
    "from sklearn.preprocessing import LabelBinarizer\n",
    "from sklearn.model_selection import train_test_split\n",
    "from sklearn.metrics import classification_report\n",
    "from imutils import paths\n",
    "import matplotlib.pyplot as plt\n",
    "import numpy as np\n",
    "import os"
   ]
  },
  {
   "cell_type": "code",
   "execution_count": 4,
   "metadata": {},
   "outputs": [],
   "source": [
    "# initialize the initial learning rate, number of epochs to train for, and batch size\n",
    "INIT_LR = 1e-4\n",
    "EPOCHS = 20\n",
    "BS = 32"
   ]
  },
  {
   "cell_type": "code",
   "execution_count": 5,
   "metadata": {},
   "outputs": [],
   "source": [
    "DIRECTORY = r\"C:\\Users\\Pavilion\\Desktop\\Face-Mask-Detection\\Face-Mask-Detection-master\\dataset\"\n",
    "CATEGORIES = [\"with_mask\", \"without_mask\"]"
   ]
  },
  {
   "cell_type": "code",
   "execution_count": 6,
   "metadata": {},
   "outputs": [
    {
     "name": "stdout",
     "output_type": "stream",
     "text": [
      "[INFO] loading images...\n"
     ]
    }
   ],
   "source": [
    "# grab the list of images in our dataset directory, then initialize the list of data (i.e., images) and class images\n",
    "print(\"[INFO] loading images...\")"
   ]
  },
  {
   "cell_type": "code",
   "execution_count": 7,
   "metadata": {},
   "outputs": [],
   "source": [
    "data = []\n",
    "labels = []"
   ]
  },
  {
   "cell_type": "code",
   "execution_count": 8,
   "metadata": {},
   "outputs": [],
   "source": [
    "for category in CATEGORIES:\n",
    "    path = os.path.join(DIRECTORY, category)\n",
    "    for img in os.listdir(path):\n",
    "        img_path = os.path.join(path, img)\n",
    "        image = load_img(img_path, target_size=(224, 224))\n",
    "        image = img_to_array(image)\n",
    "        image = preprocess_input(image)\n",
    "\n",
    "        data.append(image)\n",
    "        labels.append(category)"
   ]
  },
  {
   "cell_type": "code",
   "execution_count": 9,
   "metadata": {},
   "outputs": [],
   "source": [
    "# perform one-hot encoding on the labels\n",
    "lb = LabelBinarizer()\n",
    "labels = lb.fit_transform(labels)\n",
    "labels = to_categorical(labels)\n",
    "\n",
    "data = np.array(data, dtype=\"float32\")\n",
    "labels = np.array(labels)\n",
    "\n",
    "X_train, X_test, Y_train, Y_test = train_test_split(data, labels,test_size=0.20, stratify=labels, random_state=42)"
   ]
  },
  {
   "cell_type": "code",
   "execution_count": 10,
   "metadata": {},
   "outputs": [],
   "source": [
    "# construct the training image generator for data augmentation\n",
    "aug = ImageDataGenerator(\n",
    "    rotation_range=20,\n",
    "    zoom_range=0.15,\n",
    "    width_shift_range=0.2,\n",
    "    height_shift_range=0.2,\n",
    "    shear_range=0.15,\n",
    "    horizontal_flip=True,\n",
    "    fill_mode=\"nearest\")"
   ]
  },
  {
   "cell_type": "code",
   "execution_count": 12,
   "metadata": {},
   "outputs": [],
   "source": [
    "# load the MobileNetV2 network, ensuring the head FC layer sets are left off\n",
    "baseModel = MobileNetV2(weights=\"imagenet\", include_top=False,input_tensor=Input(shape=(224, 224, 3)))"
   ]
  },
  {
   "cell_type": "code",
   "execution_count": 13,
   "metadata": {},
   "outputs": [],
   "source": [
    "# construct the head of the model that will be placed on top of the base model\n",
    "headModel = baseModel.output\n",
    "headModel = AveragePooling2D(pool_size=(7, 7))(headModel)\n",
    "headModel = Flatten(name=\"flatten\")(headModel)\n",
    "headModel = Dense(128, activation=\"relu\")(headModel)\n",
    "headModel = Dropout(0.5)(headModel)\n",
    "headModel = Dense(2, activation=\"sigmoid\")(headModel)"
   ]
  },
  {
   "cell_type": "code",
   "execution_count": 14,
   "metadata": {},
   "outputs": [],
   "source": [
    "# place the head FC model on top of the base model (this will become the actual model we will train)\n",
    "model = Model(inputs=baseModel.input, outputs=headModel)"
   ]
  },
  {
   "cell_type": "code",
   "execution_count": 15,
   "metadata": {},
   "outputs": [],
   "source": [
    "# loop over all layers in the base model and freeze them so they will *not* be updated during the first training process\n",
    "for layer in baseModel.layers:\n",
    "    layer.trainable = False"
   ]
  },
  {
   "cell_type": "code",
   "execution_count": 16,
   "metadata": {},
   "outputs": [
    {
     "name": "stdout",
     "output_type": "stream",
     "text": [
      "[INFO] compiling model...\n"
     ]
    }
   ],
   "source": [
    "# compile our model\n",
    "print(\"[INFO] compiling model...\")\n",
    "opt = Adam(lr=INIT_LR, decay=INIT_LR / EPOCHS)\n",
    "model.compile(loss=\"binary_crossentropy\", optimizer=opt,metrics=[\"accuracy\"])"
   ]
  },
  {
   "cell_type": "code",
   "execution_count": 18,
   "metadata": {},
   "outputs": [
    {
     "name": "stdout",
     "output_type": "stream",
     "text": [
      "[INFO] training head...\n",
      "WARNING:tensorflow:sample_weight modes were coerced from\n",
      "  ...\n",
      "    to  \n",
      "  ['...']\n",
      "Train for 34 steps, validate on 276 samples\n",
      "Epoch 1/20\n",
      "34/34 [==============================] - 416s 12s/step - loss: 0.6925 - accuracy: 0.5978 - val_loss: 0.4172 - val_accuracy: 0.8203\n",
      "Epoch 2/20\n",
      "34/34 [==============================] - 370s 11s/step - loss: 0.4544 - accuracy: 0.7893 - val_loss: 0.3040 - val_accuracy: 0.8887\n",
      "Epoch 3/20\n",
      "34/34 [==============================] - 336s 10s/step - loss: 0.3590 - accuracy: 0.8628 - val_loss: 0.2210 - val_accuracy: 0.9297\n",
      "Epoch 4/20\n",
      "34/34 [==============================] - 327s 10s/step - loss: 0.2749 - accuracy: 0.9092 - val_loss: 0.2077 - val_accuracy: 0.9121\n",
      "Epoch 5/20\n",
      "34/34 [==============================] - 290s 9s/step - loss: 0.2322 - accuracy: 0.9153 - val_loss: 0.1473 - val_accuracy: 0.9492\n",
      "Epoch 6/20\n",
      "34/34 [==============================] - 271s 8s/step - loss: 0.2097 - accuracy: 0.9359 - val_loss: 0.1333 - val_accuracy: 0.9551\n",
      "Epoch 7/20\n",
      "34/34 [==============================] - 271s 8s/step - loss: 0.1800 - accuracy: 0.9396 - val_loss: 0.1342 - val_accuracy: 0.9512\n",
      "Epoch 8/20\n",
      "34/34 [==============================] - 273s 8s/step - loss: 0.1641 - accuracy: 0.9424 - val_loss: 0.1334 - val_accuracy: 0.9473\n",
      "Epoch 9/20\n",
      "34/34 [==============================] - 285s 8s/step - loss: 0.1540 - accuracy: 0.9504 - val_loss: 0.1035 - val_accuracy: 0.9629\n",
      "Epoch 10/20\n",
      "34/34 [==============================] - 308s 9s/step - loss: 0.1387 - accuracy: 0.9537 - val_loss: 0.1048 - val_accuracy: 0.9609\n",
      "Epoch 11/20\n",
      "34/34 [==============================] - 281s 8s/step - loss: 0.1313 - accuracy: 0.9597 - val_loss: 0.0934 - val_accuracy: 0.9707\n",
      "Epoch 12/20\n",
      "34/34 [==============================] - 280s 8s/step - loss: 0.1185 - accuracy: 0.9607 - val_loss: 0.0983 - val_accuracy: 0.9590\n",
      "Epoch 13/20\n",
      "34/34 [==============================] - 291s 9s/step - loss: 0.1224 - accuracy: 0.9593 - val_loss: 0.0662 - val_accuracy: 0.9824\n",
      "Epoch 14/20\n",
      "34/34 [==============================] - 274s 8s/step - loss: 0.1129 - accuracy: 0.9593 - val_loss: 0.0974 - val_accuracy: 0.9551\n",
      "Epoch 15/20\n",
      "34/34 [==============================] - 281s 8s/step - loss: 0.1102 - accuracy: 0.9630 - val_loss: 0.0760 - val_accuracy: 0.9707\n",
      "Epoch 16/20\n",
      "34/34 [==============================] - 285s 8s/step - loss: 0.1007 - accuracy: 0.9644 - val_loss: 0.0738 - val_accuracy: 0.9746\n",
      "Epoch 17/20\n",
      "34/34 [==============================] - 266s 8s/step - loss: 0.0931 - accuracy: 0.9696 - val_loss: 0.0604 - val_accuracy: 0.9805\n",
      "Epoch 18/20\n",
      "34/34 [==============================] - 266s 8s/step - loss: 0.0970 - accuracy: 0.9640 - val_loss: 0.0757 - val_accuracy: 0.9688\n",
      "Epoch 19/20\n",
      "34/34 [==============================] - 295s 9s/step - loss: 0.0842 - accuracy: 0.9714 - val_loss: 0.0623 - val_accuracy: 0.9785\n",
      "Epoch 20/20\n",
      "34/34 [==============================] - 279s 8s/step - loss: 0.0785 - accuracy: 0.9766 - val_loss: 0.0720 - val_accuracy: 0.9707\n"
     ]
    }
   ],
   "source": [
    "# train the head of the network\n",
    "print(\"[INFO] training head...\")\n",
    "H = model.fit(\n",
    "    aug.flow(X_train, Y_train, batch_size=BS),\n",
    "    steps_per_epoch=len(X_train) // BS,\n",
    "    validation_data=(X_test, Y_test),\n",
    "    validation_steps=len(X_test) // BS,\n",
    "    epochs=EPOCHS)\n"
   ]
  },
  {
   "cell_type": "code",
   "execution_count": 29,
   "metadata": {},
   "outputs": [
    {
     "name": "stdout",
     "output_type": "stream",
     "text": [
      "[INFO] evaluating network...\n"
     ]
    }
   ],
   "source": [
    "# make predictions on the testing set\n",
    "print(\"[INFO] evaluating network...\")\n",
    "pred = model.predict(X_test, batch_size=BS)\n"
   ]
  },
  {
   "cell_type": "code",
   "execution_count": 30,
   "metadata": {},
   "outputs": [],
   "source": [
    "# for each image in the testing set we need to find the index of the label with corresponding largest predicted probability\n",
    "pred = np.argmax(pred, axis = 1)"
   ]
  },
  {
   "cell_type": "code",
   "execution_count": 31,
   "metadata": {},
   "outputs": [
    {
     "name": "stdout",
     "output_type": "stream",
     "text": [
      "              precision    recall  f1-score   support\n",
      "\n",
      "   with_mask       0.95      1.00      0.97       138\n",
      "without_mask       1.00      0.94      0.97       138\n",
      "\n",
      "    accuracy                           0.97       276\n",
      "   macro avg       0.97      0.97      0.97       276\n",
      "weighted avg       0.97      0.97      0.97       276\n",
      "\n"
     ]
    }
   ],
   "source": [
    "# show a nicely formatted classification report\n",
    "print(classification_report(Y_test.argmax(axis=1), pred,target_names=lb.classes_))\n"
   ]
  },
  {
   "cell_type": "code",
   "execution_count": 32,
   "metadata": {},
   "outputs": [
    {
     "name": "stdout",
     "output_type": "stream",
     "text": [
      "[INFO] saving mask detector model...\n"
     ]
    }
   ],
   "source": [
    "# serialize the model to disk\n",
    "print(\"[INFO] saving mask detector model...\")\n",
    "model.save(\"mask_detector.model\", save_format=\"h5\")"
   ]
  },
  {
   "cell_type": "code",
   "execution_count": 33,
   "metadata": {},
   "outputs": [
    {
     "data": {
      "image/png": "[encoded data removed]",
      "text/plain": [
       "<Figure size 432x288 with 1 Axes>"
      ]
     },
     "metadata": {},
     "output_type": "display_data"
    }
   ],
   "source": [
    "# plot the training loss and accuracy\n",
    "N = EPOCHS\n",
    "plt.style.use(\"ggplot\")\n",
    "plt.figure()\n",
    "plt.plot(np.arange(0, N), H.history[\"loss\"], label=\"train_loss\")\n",
    "plt.plot(np.arange(0, N), H.history[\"val_loss\"], label=\"val_loss\")\n",
    "plt.plot(np.arange(0, N), H.history[\"accuracy\"], label=\"train_acc\")\n",
    "plt.plot(np.arange(0, N), H.history[\"val_accuracy\"], label=\"val_acc\")\n",
    "plt.title(\"Training Loss and Accuracy\")\n",
    "plt.xlabel(\"Epoch #\")\n",
    "plt.ylabel(\"Loss/Accuracy\")\n",
    "plt.legend(loc=\"lower left\")\n",
    "plt.savefig(\"plot.png\")"
   ]
  },
  {
   "cell_type": "code",
   "execution_count": null,
   "metadata": {},
   "outputs": [],
   "source": []
  }
 ],
 "metadata": {
  "kernelspec": {
   "display_name": "Python 3",
   "language": "python",
   "name": "python3"
  },
  "language_info": {
   "codemirror_mode": {
    "name": "ipython",
    "version": 3
   },
   "file_extension": ".py",
   "mimetype": "text/x-python",
   "name": "python",
   "nbconvert_exporter": "python",
   "pygments_lexer": "ipython3",
   "version": "3.7.9"
  }
 },
 "nbformat": 4,
 "nbformat_minor": 4
}
